{
 "cells": [
  {
   "cell_type": "code",
   "execution_count": 3,
   "metadata": {},
   "outputs": [
    {
     "data": {
      "text/plain": [
       "True"
      ]
     },
     "execution_count": 3,
     "metadata": {},
     "output_type": "execute_result"
    }
   ],
   "source": [
    "# 1) Verify if a value is an integer\n",
    "\n",
    "n=5\n",
    "\n",
    "n==int(n)"
   ]
  },
  {
   "cell_type": "code",
   "execution_count": 4,
   "metadata": {},
   "outputs": [
    {
     "data": {
      "text/plain": [
       "False"
      ]
     },
     "execution_count": 4,
     "metadata": {},
     "output_type": "execute_result"
    }
   ],
   "source": [
    "# 2) Verify if a value is even\n",
    "\n",
    "n=5\n",
    "\n",
    "n/2==int(n)"
   ]
  },
  {
   "cell_type": "code",
   "execution_count": 5,
   "metadata": {},
   "outputs": [
    {
     "data": {
      "text/plain": [
       "True"
      ]
     },
     "execution_count": 5,
     "metadata": {},
     "output_type": "execute_result"
    }
   ],
   "source": [
    "# 3) Insert two numbers. Is the first bigger than the second?\n",
    "\n",
    "n=5\n",
    "m=3\n",
    "\n",
    "n>m"
   ]
  },
  {
   "cell_type": "code",
   "execution_count": 6,
   "metadata": {},
   "outputs": [
    {
     "data": {
      "text/plain": [
       "False"
      ]
     },
     "execution_count": 6,
     "metadata": {},
     "output_type": "execute_result"
    }
   ],
   "source": [
    "# 4) Verify if one value is multiple of another\n",
    "\n",
    "n=5\n",
    "m=3\n",
    "\n",
    "n/m==int(n)"
   ]
  },
  {
   "cell_type": "code",
   "execution_count": 1,
   "metadata": {},
   "outputs": [
    {
     "data": {
      "text/plain": [
       "False"
      ]
     },
     "execution_count": 1,
     "metadata": {},
     "output_type": "execute_result"
    }
   ],
   "source": [
    "# 4) Verify if one value is multiple of another\n",
    "\n",
    "n=5\n",
    "m=3\n",
    "\n",
    "m/n==int(n)"
   ]
  },
  {
   "cell_type": "code",
   "execution_count": 8,
   "metadata": {},
   "outputs": [
    {
     "name": "stdout",
     "output_type": "stream",
     "text": [
      "18.0\n"
     ]
    }
   ],
   "source": [
    "# 5) Calculate the interest earn by an investor that invested a capital of 200 during 3 years \n",
    "# with an interest rate of 3%. (I= P*R*T)\n",
    "\n",
    "P=200\n",
    "R=.03\n",
    "T=3\n",
    "\n",
    "I=P*R*T\n",
    "print(I)"
   ]
  },
  {
   "cell_type": "code",
   "execution_count": 9,
   "metadata": {},
   "outputs": [
    {
     "name": "stdout",
     "output_type": "stream",
     "text": [
      "218.5454\n"
     ]
    }
   ],
   "source": [
    "# 6) Capital that an investor obtained after investing a capital of 200 during 3 years\n",
    "# with an interest rate of 3%. (Compound interest)\n",
    "\n",
    "P=200\n",
    "R=.03\n",
    "T=3\n",
    "\n",
    "K=P*(1+R)**3\n",
    "print(K)"
   ]
  },
  {
   "cell_type": "code",
   "execution_count": 10,
   "metadata": {},
   "outputs": [
    {
     "name": "stdout",
     "output_type": "stream",
     "text": [
      "18.991964937910883\n"
     ]
    }
   ],
   "source": [
    "# 7) Calculate your BMI (Body Mass Index)\n",
    "\n",
    "mass=65\n",
    "height=1.85\n",
    "\n",
    "BMI=mass/height**2\n",
    "print(BMI)"
   ]
  },
  {
   "cell_type": "code",
   "execution_count": 16,
   "metadata": {},
   "outputs": [
    {
     "name": "stdout",
     "output_type": "stream",
     "text": [
      "1.618033988749895\n"
     ]
    }
   ],
   "source": [
    "'''\n",
    "8) Calcule the Golden ration\n",
    "\n",
    "1. Solve the problem without using libraries \n",
    "'''\n",
    "\n",
    "gr=(1+5**(1/2))/2\n",
    "print(gr)"
   ]
  },
  {
   "cell_type": "code",
   "execution_count": 14,
   "metadata": {},
   "outputs": [
    {
     "name": "stdout",
     "output_type": "stream",
     "text": [
      "1.618033988749895\n"
     ]
    }
   ],
   "source": [
    "'''\n",
    "8) Calcule the Golden ration\n",
    "\n",
    "2. Use module math (import math) and function sqr (math.sqrt)\n",
    "'''\n",
    "\n",
    "import math\n",
    "gr=(1+math.sqrt(5))/2\n",
    "print(gr)"
   ]
  },
  {
   "cell_type": "code",
   "execution_count": 15,
   "metadata": {},
   "outputs": [
    {
     "name": "stdout",
     "output_type": "stream",
     "text": [
      "3139.440301519393\n"
     ]
    }
   ],
   "source": [
    "# 9) Calculate the NPV (Net present value) of an investment, considering an initial investment of 10000, \n",
    "# the following Cashflows 2000,3000, 4000, 4000 and 5000 and a discount rate of 10%.\n",
    "\n",
    "I=10000\n",
    "CF1=2000\n",
    "CF2=3000\n",
    "CF3=4000\n",
    "CF4=4000\n",
    "CF5=5000\n",
    "R=.1\n",
    "\n",
    "NPV=CF1/(1+R)+CF2/(1+R)**2+CF3/(1+R)**3+CF4/(1+R)**4+CF5/(1+R)**5-I\n",
    "print(NPV)"
   ]
  },
  {
   "cell_type": "code",
   "execution_count": 24,
   "metadata": {},
   "outputs": [
    {
     "name": "stdout",
     "output_type": "stream",
     "text": [
      "What's your name? Daniele\n",
      "How old are you? 23\n",
      "This person was born in 1996\n"
     ]
    }
   ],
   "source": [
    "'''\n",
    "10) Ask the user to insert name and age. Calculate the the birth. Print a result saying the 'this person was born in'\n",
    "\n",
    "1. Solve the problem without using modules and libraries \n",
    "'''\n",
    "\n",
    "name=input(\"What's your name? \")\n",
    "age=input(\"How old are you? \")\n",
    "currentYear=2019\n",
    "age=int(age)\n",
    "birthDate=currentYear-age\n",
    "answer=\"This person was born in \"+str(birthDate)\n",
    "print(answer)"
   ]
  },
  {
   "cell_type": "code",
   "execution_count": 2,
   "metadata": {},
   "outputs": [
    {
     "name": "stdout",
     "output_type": "stream",
     "text": [
      "What's your name? Daniele\n",
      "How old are you? 23\n",
      "This person was born in 1996\n"
     ]
    }
   ],
   "source": [
    "'''\n",
    "10) Ask the user to insert name and age. Calculate the the birth. Print a result saying the 'this person was born in'\n",
    "\n",
    "2. Solve the problem using the date library from module datetime, as follow:\n",
    "from datetime import date   \n",
    "today = date.today()   \n",
    "today.year\n",
    "'''\n",
    "\n",
    "name=input(\"What's your name? \")\n",
    "age=input(\"How old are you? \")\n",
    "from datetime import date\n",
    "today=date.today()\n",
    "age=int(age)\n",
    "birthDate=today.year-int(age)\n",
    "answer=\"This person was born in \"+str(birthDate)\n",
    "print(answer)"
   ]
  },
  {
   "cell_type": "code",
   "execution_count": 6,
   "metadata": {},
   "outputs": [
    {
     "name": "stdout",
     "output_type": "stream",
     "text": [
      "What's your forename? Daniele\n",
      "What's your surname? Veggiato\n",
      "DANIELE VEGGIATO\n",
      "Daniele Veggiato\n",
      "daniele veggiato\n",
      "Daniele veggiato\n"
     ]
    }
   ],
   "source": [
    "'''\n",
    "11) Ask the user to insert forenames, surnames. create a new variable (name) with your complete name.\n",
    "Create the follwoing variables:\n",
    "nameBig, where all the characters of the name are capitalized \n",
    "nameTitle, where the only the first character of each name (word) is capitalized \n",
    "nameSmall, where all the characters of the name are lower \n",
    "nameCapitalized, where only the first character of the first name is capitalized\n",
    "'''\n",
    "\n",
    "forename=input(\"What's your forename? \")\n",
    "surname=input(\"What's your surname? \")\n",
    "name=forename+\" \"+surname\n",
    "\n",
    "nameBig=name.upper()\n",
    "nameTitle=name.title()\n",
    "nameSmall=name.lower()\n",
    "nameCapitalized=name.capitalize()\n",
    "\n",
    "print(nameBig)\n",
    "print(nameTitle)\n",
    "print(nameSmall)\n",
    "print(nameCapitalized)"
   ]
  },
  {
   "cell_type": "code",
   "execution_count": 12,
   "metadata": {},
   "outputs": [
    {
     "data": {
      "text/plain": [
       "-1"
      ]
     },
     "execution_count": 12,
     "metadata": {},
     "output_type": "execute_result"
    }
   ],
   "source": [
    "# 12) Use the following method to show where in which character appears the first \"da\"\n",
    "# str.find(sub,start,end)\n",
    "\n",
    "str1=name\n",
    "str2=\"da\"\n",
    "\n",
    "str1.find(str2)\n",
    "\n",
    "# What happens if does not find? Output -1"
   ]
  },
  {
   "cell_type": "code",
   "execution_count": null,
   "metadata": {},
   "outputs": [],
   "source": []
  }
 ],
 "metadata": {
  "kernelspec": {
   "display_name": "Python 3",
   "language": "python",
   "name": "python3"
  },
  "language_info": {
   "codemirror_mode": {
    "name": "ipython",
    "version": 3
   },
   "file_extension": ".py",
   "mimetype": "text/x-python",
   "name": "python",
   "nbconvert_exporter": "python",
   "pygments_lexer": "ipython3",
   "version": "3.7.3"
  }
 },
 "nbformat": 4,
 "nbformat_minor": 2
}
