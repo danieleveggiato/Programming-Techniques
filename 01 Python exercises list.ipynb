{
 "cells": [
  {
   "cell_type": "code",
   "execution_count": 1,
   "metadata": {},
   "outputs": [
    {
     "data": {
      "text/plain": [
       "16"
      ]
     },
     "execution_count": 1,
     "metadata": {},
     "output_type": "execute_result"
    }
   ],
   "source": [
    "# 1. Write a Python program to sum all the items in a list.\n",
    "\n",
    "myList = [5,3,1,7]\n",
    "\n",
    "def sumList(List, Sum = 0):\n",
    "    for i in List:\n",
    "        Sum += i\n",
    "    return Sum\n",
    "\n",
    "sumList(myList)"
   ]
  },
  {
   "cell_type": "code",
   "execution_count": 2,
   "metadata": {},
   "outputs": [
    {
     "data": {
      "text/plain": [
       "105"
      ]
     },
     "execution_count": 2,
     "metadata": {},
     "output_type": "execute_result"
    }
   ],
   "source": [
    "# 2. Write a Python program to multiplies all the items in a list.\n",
    "\n",
    "def productList(List, Product = 1):\n",
    "    for i in myList:\n",
    "        Product *= i\n",
    "    return Product\n",
    "\n",
    "productList(myList)"
   ]
  },
  {
   "cell_type": "code",
   "execution_count": 3,
   "metadata": {},
   "outputs": [
    {
     "data": {
      "text/plain": [
       "7"
      ]
     },
     "execution_count": 3,
     "metadata": {},
     "output_type": "execute_result"
    }
   ],
   "source": [
    "# 3. Write a Python program to get the largest number from a list.\n",
    "\n",
    "def maxList(List):\n",
    "    return max(List)\n",
    "\n",
    "maxList(myList)"
   ]
  },
  {
   "cell_type": "code",
   "execution_count": 4,
   "metadata": {},
   "outputs": [
    {
     "data": {
      "text/plain": [
       "1"
      ]
     },
     "execution_count": 4,
     "metadata": {},
     "output_type": "execute_result"
    }
   ],
   "source": [
    "# 4. Write a Python program to get the smallest number from a list.\n",
    "\n",
    "def minList(List):\n",
    "    return min(List)\n",
    "\n",
    "minList(myList)"
   ]
  },
  {
   "cell_type": "code",
   "execution_count": 5,
   "metadata": {},
   "outputs": [
    {
     "data": {
      "text/plain": [
       "2"
      ]
     },
     "execution_count": 5,
     "metadata": {},
     "output_type": "execute_result"
    }
   ],
   "source": [
    "'''5. Write a Python program to count the number of strings where the string length is 2 or more \n",
    "and the first and last character are same from a given list of strings.'''\n",
    "\n",
    "sampleList = ['abc', 'xyz', 'aba', '1221']\n",
    "\n",
    "def countList(List, count = 0):\n",
    "    for i in List:\n",
    "        if len(i) > 2 and i[0] == i[-1]:\n",
    "            count += 1\n",
    "    return count\n",
    "\n",
    "countList(sampleList)"
   ]
  },
  {
   "cell_type": "code",
   "execution_count": 6,
   "metadata": {},
   "outputs": [
    {
     "data": {
      "text/plain": [
       "[(2, 1), (1, 2), (2, 3), (4, 4), (2, 5)]"
      ]
     },
     "execution_count": 6,
     "metadata": {},
     "output_type": "execute_result"
    }
   ],
   "source": [
    "'''6. Write a Python program to get a list, sorted in increasing order by the last element \n",
    "in each tuple from a given list of non-empty tuples.'''\n",
    "\n",
    "sampleList = [(2, 5), (1, 2), (4, 4), (2, 3), (2, 1)]\n",
    "\n",
    "def sortList(List):\n",
    "    def secondElement(Tuple):\n",
    "        return Tuple[-1]\n",
    "    List.sort(key=secondElement)\n",
    "    return List\n",
    "\n",
    "sortList(sampleList)"
   ]
  },
  {
   "cell_type": "code",
   "execution_count": 11,
   "metadata": {},
   "outputs": [
    {
     "data": {
      "text/plain": [
       "[1, 2, 3, 4, 5]"
      ]
     },
     "execution_count": 11,
     "metadata": {},
     "output_type": "execute_result"
    }
   ],
   "source": [
    "# 7. Write a Python program to remove duplicates from a list.\n",
    "\n",
    "myList = [1,2,2,3,3,4,5]\n",
    "\n",
    "def removeDuplicate(List):\n",
    "    for i in List:\n",
    "        if List.count(i) > 1:\n",
    "            List.remove(i)\n",
    "    return List\n",
    "\n",
    "removeDuplicate(myList)"
   ]
  },
  {
   "cell_type": "code",
   "execution_count": 13,
   "metadata": {},
   "outputs": [
    {
     "data": {
      "text/plain": [
       "'True'"
      ]
     },
     "execution_count": 13,
     "metadata": {},
     "output_type": "execute_result"
    }
   ],
   "source": [
    "# 8. Write a Python program to check a list is empty or not.\n",
    "\n",
    "myList1 = [1,2,2,3,3,4,5]\n",
    "myList2 = []\n",
    "\n",
    "def isListEmpty(List):\n",
    "    if len(List) == 0:\n",
    "        return \"True\"\n",
    "    else:\n",
    "        return \"False\"\n",
    "\n",
    "isListEmpty(myList2)"
   ]
  },
  {
   "cell_type": "code",
   "execution_count": null,
   "metadata": {},
   "outputs": [],
   "source": []
  }
 ],
 "metadata": {
  "kernelspec": {
   "display_name": "Python 3",
   "language": "python",
   "name": "python3"
  },
  "language_info": {
   "codemirror_mode": {
    "name": "ipython",
    "version": 3
   },
   "file_extension": ".py",
   "mimetype": "text/x-python",
   "name": "python",
   "nbconvert_exporter": "python",
   "pygments_lexer": "ipython3",
   "version": "3.7.3"
  }
 },
 "nbformat": 4,
 "nbformat_minor": 2
}
