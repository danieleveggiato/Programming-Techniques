{
 "cells": [
  {
   "cell_type": "code",
   "execution_count": 4,
   "metadata": {},
   "outputs": [
    {
     "name": "stdout",
     "output_type": "stream",
     "text": [
      "Enter an integer number: 3\n",
      "Enter another integer number: 4\n",
      "12\n"
     ]
    }
   ],
   "source": [
    "# 1. Write a Python program to multiply two user-entered integers without using the * operator in python.\n",
    "\n",
    "a = input(\"Enter an integer number: \")\n",
    "a = int(a)\n",
    "b = input(\"Enter another integer number: \")\n",
    "b = int(b)\n",
    "\n",
    "c = 0\n",
    "for i in range(0,b):\n",
    "    c += a\n",
    "print(c)"
   ]
  },
  {
   "cell_type": "code",
   "execution_count": 22,
   "metadata": {},
   "outputs": [
    {
     "data": {
      "text/plain": [
       "145541"
      ]
     },
     "execution_count": 22,
     "metadata": {},
     "output_type": "execute_result"
    }
   ],
   "source": [
    "# 2. Write a python program to find the next smaller palindrome of a specified number.\n",
    "\n",
    "def next_palindrome(x):\n",
    "    for i in range (0, 100000):\n",
    "        a = list(str(x))\n",
    "        b = a.copy()\n",
    "        b.reverse()\n",
    "        if a != b:\n",
    "            x+=1\n",
    "    return x\n",
    "\n",
    "next_palindrome(145092)"
   ]
  },
  {
   "cell_type": "code",
   "execution_count": 28,
   "metadata": {},
   "outputs": [
    {
     "name": "stdout",
     "output_type": "stream",
     "text": [
      "[2, 3, 4, 5, 5, 6]\n"
     ]
    }
   ],
   "source": [
    "# 3. Implement the algorithm described below.\n",
    "\n",
    "a = [5,3,4,2,6,5]\n",
    "\n",
    "for i in range(0,10):\n",
    "    for i in range(0,len(a)-1):\n",
    "        if a[i] > a[i+1]:\n",
    "            a.insert(i+2,a[i])\n",
    "            a.pop(i)\n",
    "\n",
    "print(a)"
   ]
  },
  {
   "cell_type": "code",
   "execution_count": 1,
   "metadata": {},
   "outputs": [],
   "source": [
    "# 4. Implement a program to multiply two arrays using loops\n",
    "\n",
    "import numpy as np"
   ]
  },
  {
   "cell_type": "code",
   "execution_count": 14,
   "metadata": {},
   "outputs": [
    {
     "data": {
      "text/plain": [
       "array([ 2,  6, 12, 20])"
      ]
     },
     "execution_count": 14,
     "metadata": {},
     "output_type": "execute_result"
    }
   ],
   "source": [
    "a = np.array([[1,2,3],[4,5,6]])\n",
    "b = np.array([[2,3],[4,5],[6,7]])\n",
    "\n",
    "for i in a:\n",
    "    for j in b:\n",
    "        "
   ]
  },
  {
   "cell_type": "code",
   "execution_count": 34,
   "metadata": {},
   "outputs": [
    {
     "data": {
      "text/plain": [
       "0.06542000000000733"
      ]
     },
     "execution_count": 34,
     "metadata": {},
     "output_type": "execute_result"
    }
   ],
   "source": [
    "#create a function called IRR that returns the IRR value\n",
    "\n",
    "CFList=[-1000, 200, 200, 300, 500]\n",
    "r = .04\n",
    "\n",
    "def npv(cfList,r):\n",
    "    npv = 0\n",
    "    for n, cf in enumerate(cfList):\n",
    "        npv += cf/(1+r)**(n)\n",
    "    return npv\n",
    "\n",
    "def irr(cfList):\n",
    "    irr = 0\n",
    "    for i in range (0,10000):\n",
    "        if npv(cfList,irr) > 0:\n",
    "            irr += .00001\n",
    "        else:\n",
    "            irr -= .00001\n",
    "    return irr\n",
    "\n",
    "irr(CFList)"
   ]
  },
  {
   "cell_type": "code",
   "execution_count": 37,
   "metadata": {},
   "outputs": [
    {
     "ename": "TypeError",
     "evalue": "'int' object is not callable",
     "output_type": "error",
     "traceback": [
      "\u001b[1;31m---------------------------------------------------------------------------\u001b[0m",
      "\u001b[1;31mTypeError\u001b[0m                                 Traceback (most recent call last)",
      "\u001b[1;32m<ipython-input-37-b32fc232def8>\u001b[0m in \u001b[0;36m<module>\u001b[1;34m\u001b[0m\n\u001b[0;32m      6\u001b[0m     \u001b[1;32mreturn\u001b[0m \u001b[0mn\u001b[0m\u001b[1;33m-\u001b[0m\u001b[0mnpv\u001b[0m\u001b[1;33m/\u001b[0m\u001b[0mcf\u001b[0m\u001b[1;33m\u001b[0m\u001b[1;33m\u001b[0m\u001b[0m\n\u001b[0;32m      7\u001b[0m \u001b[1;33m\u001b[0m\u001b[0m\n\u001b[1;32m----> 8\u001b[1;33m \u001b[0mpayback\u001b[0m\u001b[1;33m(\u001b[0m\u001b[0mCFList\u001b[0m\u001b[1;33m,\u001b[0m\u001b[0mr\u001b[0m\u001b[1;33m)\u001b[0m\u001b[1;33m\u001b[0m\u001b[1;33m\u001b[0m\u001b[0m\n\u001b[0m",
      "\u001b[1;32m<ipython-input-37-b32fc232def8>\u001b[0m in \u001b[0;36mpayback\u001b[1;34m(cfList, rate)\u001b[0m\n\u001b[0;32m      2\u001b[0m     \u001b[0mnpv\u001b[0m \u001b[1;33m=\u001b[0m \u001b[1;36m0\u001b[0m\u001b[1;33m\u001b[0m\u001b[1;33m\u001b[0m\u001b[0m\n\u001b[0;32m      3\u001b[0m     \u001b[1;32mfor\u001b[0m \u001b[0mcf\u001b[0m \u001b[1;32min\u001b[0m \u001b[0mcfList\u001b[0m\u001b[1;33m:\u001b[0m\u001b[1;33m\u001b[0m\u001b[1;33m\u001b[0m\u001b[0m\n\u001b[1;32m----> 4\u001b[1;33m         \u001b[1;32mwhile\u001b[0m \u001b[0mnpv\u001b[0m\u001b[1;33m(\u001b[0m\u001b[0mcfList\u001b[0m\u001b[1;33m[\u001b[0m\u001b[1;33m:\u001b[0m\u001b[0mcf\u001b[0m\u001b[1;33m]\u001b[0m\u001b[1;33m,\u001b[0m\u001b[0mrate\u001b[0m\u001b[1;33m)\u001b[0m \u001b[1;33m>\u001b[0m \u001b[1;36m0\u001b[0m\u001b[1;33m:\u001b[0m\u001b[1;33m\u001b[0m\u001b[1;33m\u001b[0m\u001b[0m\n\u001b[0m\u001b[0;32m      5\u001b[0m             \u001b[0mprint\u001b[0m\u001b[1;33m(\u001b[0m\u001b[0mnpv\u001b[0m\u001b[1;33m)\u001b[0m\u001b[1;33m\u001b[0m\u001b[1;33m\u001b[0m\u001b[0m\n\u001b[0;32m      6\u001b[0m     \u001b[1;32mreturn\u001b[0m \u001b[0mn\u001b[0m\u001b[1;33m-\u001b[0m\u001b[0mnpv\u001b[0m\u001b[1;33m/\u001b[0m\u001b[0mcf\u001b[0m\u001b[1;33m\u001b[0m\u001b[1;33m\u001b[0m\u001b[0m\n",
      "\u001b[1;31mTypeError\u001b[0m: 'int' object is not callable"
     ]
    }
   ],
   "source": [
    "def payback(cfList,rate):\n",
    "    npv = 0\n",
    "    for nccf in cfList:\n",
    "        while npv < 0:\n",
    "            npv += cf/(1+r)**(n)\n",
    "    return n-npv/cf\n",
    "\n",
    "payback(CFList,r)"
   ]
  },
  {
   "cell_type": "code",
   "execution_count": 6,
   "metadata": {},
   "outputs": [
    {
     "data": {
      "text/plain": [
       "1"
      ]
     },
     "execution_count": 6,
     "metadata": {},
     "output_type": "execute_result"
    }
   ],
   "source": [
    "def Delta(x): \n",
    "    if x==0: \n",
    "        y=1\n",
    "    else: y=0\n",
    "    return(y)\n",
    "\n",
    "Delta(0)"
   ]
  },
  {
   "cell_type": "code",
   "execution_count": null,
   "metadata": {},
   "outputs": [],
   "source": []
  }
 ],
 "metadata": {
  "kernelspec": {
   "display_name": "Python 3",
   "language": "python",
   "name": "python3"
  },
  "language_info": {
   "codemirror_mode": {
    "name": "ipython",
    "version": 3
   },
   "file_extension": ".py",
   "mimetype": "text/x-python",
   "name": "python",
   "nbconvert_exporter": "python",
   "pygments_lexer": "ipython3",
   "version": "3.7.3"
  }
 },
 "nbformat": 4,
 "nbformat_minor": 2
}
