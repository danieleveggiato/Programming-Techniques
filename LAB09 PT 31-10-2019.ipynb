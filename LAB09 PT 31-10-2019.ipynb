{
 "cells": [
  {
   "cell_type": "markdown",
   "metadata": {},
   "source": [
    "# lab 9\n",
    "\n",
    "Suppose you have the follwoing payoff matriz of a prisoner's dilemna\n",
    "$$\\begin{bmatrix} (2,2) & (0,3) \\\\ (3,0) & (1,1)  \\end{bmatrix}$$\n",
    "\n",
    "Player 0 may play 0 or 1 and player 1 may play 0 or 1. 0 is cooperate (our peace), 1 is not cooperate (war).\n"
   ]
  },
  {
   "cell_type": "markdown",
   "metadata": {},
   "source": [
    "**1.** Create a function that receives results from each one of the player and gives as results a tuple with the results."
   ]
  },
  {
   "cell_type": "code",
   "execution_count": 1,
   "metadata": {},
   "outputs": [
    {
     "name": "stdout",
     "output_type": "stream",
     "text": [
      "Player 0, choose your strategy between peace (0) and war (1): 0\n",
      "Player 1, choose your strategy between peace (0) and war (1): 1\n",
      "(0, 3)\n"
     ]
    }
   ],
   "source": [
    "'''Alternative solution:\n",
    "\n",
    "PayoffList = [[(2,2),(0,3)], [(3,0),(1,1)]]\n",
    "\n",
    "def payoff(player1,player2):\n",
    "    a = PayoffList[player1][player2]\n",
    "    return a'''\n",
    "\n",
    "payoffs = [(2,2),(0,3),(3,0),(1,1)]\n",
    "\n",
    "p0strategy = int(input(\"Player 0, choose your strategy between peace (0) and war (1): \"))\n",
    "p1strategy = int(input(\"Player 1, choose your strategy between peace (0) and war (1): \"))\n",
    "\n",
    "def results(p0,p1):\n",
    "    if p0 == 0 and p1 == 0:\n",
    "        print(payoffs[0])\n",
    "    if p0 == 0 and p1 == 1:\n",
    "        print(payoffs[1])\n",
    "    if p0 == 1 and p1 == 0:\n",
    "        print(payoffs[2])\n",
    "    if p0 == 1 and p1 == 1:\n",
    "        print(payoffs[3])\n",
    "        \n",
    "results(p0strategy,p1strategy)"
   ]
  },
  {
   "cell_type": "markdown",
   "metadata": {},
   "source": [
    "**2.** Player 0 is the user that chooses between 0 a 1. Player 1 is a computer. Result is randomly generated.  "
   ]
  },
  {
   "cell_type": "code",
   "execution_count": 2,
   "metadata": {},
   "outputs": [
    {
     "name": "stdout",
     "output_type": "stream",
     "text": [
      "Player 0, choose your strategy between peace (0) and war (1): 1\n",
      "(1, 1)\n"
     ]
    },
    {
     "data": {
      "text/plain": [
       "1"
      ]
     },
     "execution_count": 2,
     "metadata": {},
     "output_type": "execute_result"
    }
   ],
   "source": [
    "import random\n",
    "\n",
    "p1List = [0,1]\n",
    "\n",
    "p0strategy = int(input(\"Player 0, choose your strategy between peace (0) and war (1): \"))\n",
    "p1strategy = random.choice(p1List)\n",
    "\n",
    "def results(p0,p1):\n",
    "    if p0 == 0 and p1 == 0:\n",
    "        return payoffs[0]\n",
    "    if p0 == 0 and p1 == 1:\n",
    "        return payoffs[1]\n",
    "    if p0 == 1 and p1 == 0:\n",
    "        return payoffs[2]\n",
    "    if p0 == 1 and p1 == 1:\n",
    "        return payoffs[3]\n",
    "\n",
    "print(results(p0strategy,p1strategy))\n",
    "a = results(p0strategy,p1strategy)\n",
    "a[0]"
   ]
  },
  {
   "cell_type": "markdown",
   "metadata": {},
   "source": [
    "**3.** Calculate the accumulated value resulting from an iterative game (10 iterations)"
   ]
  },
  {
   "cell_type": "code",
   "execution_count": 7,
   "metadata": {},
   "outputs": [
    {
     "name": "stdout",
     "output_type": "stream",
     "text": [
      "Player 0, choose your strategy between peace (0) and war (1): 1\n",
      "(1, 1)\n",
      "1\n",
      "Player 0, choose your strategy between peace (0) and war (1): 1\n",
      "(3, 0)\n",
      "4\n",
      "Player 0, choose your strategy between peace (0) and war (1): 0\n",
      "(0, 3)\n",
      "4\n",
      "Player 0, choose your strategy between peace (0) and war (1): 0\n",
      "(2, 2)\n",
      "6\n",
      "Player 0, choose your strategy between peace (0) and war (1): 1\n",
      "(1, 1)\n",
      "7\n",
      "Player 0, choose your strategy between peace (0) and war (1): 1\n",
      "(3, 0)\n",
      "10\n",
      "Player 0, choose your strategy between peace (0) and war (1): 1\n",
      "(3, 0)\n",
      "13\n",
      "Player 0, choose your strategy between peace (0) and war (1): 1\n",
      "(1, 1)\n",
      "14\n",
      "Player 0, choose your strategy between peace (0) and war (1): 1\n",
      "(3, 0)\n",
      "17\n",
      "Player 0, choose your strategy between peace (0) and war (1): 0\n",
      "(0, 3)\n",
      "17\n"
     ]
    }
   ],
   "source": [
    "import random\n",
    "\n",
    "p1List = [0,1]\n",
    "\n",
    "def results(p0,p1):\n",
    "    if p0 == 0 and p1 == 0:\n",
    "        return payoffs[0]\n",
    "    if p0 == 0 and p1 == 1:\n",
    "        return payoffs[1]\n",
    "    if p0 == 1 and p1 == 0:\n",
    "        return payoffs[2]\n",
    "    if p0 == 1 and p1 == 1:\n",
    "        return payoffs[3]\n",
    "\n",
    "total = 0\n",
    "\n",
    "for i in range(0,10):\n",
    "    p0strategy = int(input(\"Player 0, choose your strategy between peace (0) and war (1): \"))\n",
    "    p1strategy = random.choice(p1List)\n",
    "    x = results(p0strategy,p1strategy)\n",
    "    print(x)\n",
    "    total = total + x[0]\n",
    "    print(total)"
   ]
  },
  {
   "cell_type": "code",
   "execution_count": null,
   "metadata": {},
   "outputs": [],
   "source": []
  }
 ],
 "metadata": {
  "kernelspec": {
   "display_name": "Python 3",
   "language": "python",
   "name": "python3"
  },
  "language_info": {
   "codemirror_mode": {
    "name": "ipython",
    "version": 3
   },
   "file_extension": ".py",
   "mimetype": "text/x-python",
   "name": "python",
   "nbconvert_exporter": "python",
   "pygments_lexer": "ipython3",
   "version": "3.7.3"
  }
 },
 "nbformat": 4,
 "nbformat_minor": 2
}
