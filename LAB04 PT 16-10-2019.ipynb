{
 "cells": [
  {
   "cell_type": "code",
   "execution_count": 1,
   "metadata": {},
   "outputs": [
    {
     "name": "stdout",
     "output_type": "stream",
     "text": [
      "[1000.0, 1100.0, 1210.0000000000002, 1331.0000000000005, 1464.1000000000004, 1610.5100000000004]\n"
     ]
    }
   ],
   "source": [
    "'''1) Create a list of volume of sales considering the following assumptions:\n",
    "\n",
    "inicial valueSales =1000\n",
    "annual growth rate = 10%\n",
    "number of years = 6'''\n",
    "\n",
    "sales1 = 1000\n",
    "growthRate = .1\n",
    "numberYears = 6\n",
    "\n",
    "salesVolumesTS = []\n",
    "for year in range(0,numberYears):\n",
    "    salesVolumesTS.append(sales1*(1+growthRate)**year)\n",
    "print(salesVolumesTS)"
   ]
  },
  {
   "cell_type": "code",
   "execution_count": 2,
   "metadata": {},
   "outputs": [
    {
     "name": "stdout",
     "output_type": "stream",
     "text": [
      "[300.00000000000006, 330.00000000000006, 363.0000000000001, 399.3000000000002, 439.2300000000002, 483.1530000000002]\n"
     ]
    }
   ],
   "source": [
    "'''2) Based on the previews list, create a list with costs knowing the profit margin:\n",
    "\n",
    "margin=70%'''\n",
    "\n",
    "PM = .7\n",
    "\n",
    "costVolumesTS = []\n",
    "for salesVolume in salesVolumesTS:\n",
    "    costVolumesTS.append(salesVolume*(1-PM))\n",
    "print(costVolumesTS)"
   ]
  },
  {
   "cell_type": "code",
   "execution_count": 3,
   "metadata": {},
   "outputs": [
    {
     "name": "stdout",
     "output_type": "stream",
     "text": [
      "[700.0, 770.0, 847.0000000000001, 931.7000000000003, 1024.8700000000001, 1127.3570000000002]\n"
     ]
    }
   ],
   "source": [
    "# 3) Create a list with the profit based on the last 2 exercises (profit = sales - cost)\n",
    "\n",
    "profitTS = []\n",
    "for year in range(0, numberYears):\n",
    "    profitTS.append(salesVolumesTS[year]-costVolumesTS[year])\n",
    "print(profitTS)"
   ]
  },
  {
   "cell_type": "code",
   "execution_count": 4,
   "metadata": {},
   "outputs": [
    {
     "name": "stdout",
     "output_type": "stream",
     "text": [
      "[200.0, 270.0, 347.0000000000001, 431.7000000000003, 524.8700000000001, 627.3570000000002]\n"
     ]
    }
   ],
   "source": [
    "# 4) Calculate a newProfit suposing 500 of fixed costs\n",
    "\n",
    "fixedCostTS = []\n",
    "for year in range(0, numberYears):\n",
    "    fixedCostTS.append(500)\n",
    "\n",
    "newProfitTS = []\n",
    "for year in range(0, numberYears):\n",
    "    newProfitTS.append(salesVolumesTS[year]-costVolumesTS[year]-fixedCostTS[year])\n",
    "print(newProfitTS)"
   ]
  },
  {
   "cell_type": "code",
   "execution_count": 5,
   "metadata": {},
   "outputs": [
    {
     "name": "stdout",
     "output_type": "stream",
     "text": [
      "[294, 1994, 1586, 1677, 1939, 1536]\n"
     ]
    }
   ],
   "source": [
    "'''5) Create a newSales list with random generated values between 200 and 2000. \n",
    "Corresponding to volume of salesduring a certainn numberOfYears.\n",
    "\n",
    "some hints:\n",
    "Import module, writing import random\n",
    "use the method random.randint(a, b). \n",
    "This method is used to generate values between a and b ( Return arandom integer N such that a <= N <= b.):'''\n",
    "\n",
    "newSalesVolumesTS=[]\n",
    "import random\n",
    "for year in range(0, numberYears):\n",
    "    newSalesVolumesTS.append(random.randint(200,2000))\n",
    "print(newSalesVolumesTS)"
   ]
  },
  {
   "cell_type": "code",
   "execution_count": 6,
   "metadata": {},
   "outputs": [
    {
     "name": "stdout",
     "output_type": "stream",
     "text": [
      "[-294.20000000000005, 895.8, 610.1999999999998, 673.8999999999999, 857.3, 575.1999999999998]\n"
     ]
    }
   ],
   "source": [
    "'''6) Create a new list with profits (newProfit). With margin 70% with fixed costs stated previously.'''\n",
    "\n",
    "newCostVolumesTS = []\n",
    "for year in range(0, numberYears):\n",
    "    newCostVolumesTS.append(newSalesVolumesTS[year]*(1-PM))\n",
    "\n",
    "newProfitTS = []\n",
    "for year in range(0, numberYears):\n",
    "    newProfitTS.append(newSalesVolumesTS[year]-newCostVolumesTS[year]-fixedCostTS[year])\n",
    "print(newProfitTS)"
   ]
  },
  {
   "cell_type": "code",
   "execution_count": 13,
   "metadata": {},
   "outputs": [
    {
     "data": {
      "text/plain": [
       "0.8333333333333334"
      ]
     },
     "execution_count": 13,
     "metadata": {},
     "output_type": "execute_result"
    }
   ],
   "source": [
    "# 7) What is the percentage of years having profits in the total?\n",
    "\n",
    "positiveProfits = []\n",
    "\n",
    "for i in newProfitTS:\n",
    "    if i > 0:\n",
    "        positiveProfits.append(i)\n",
    "\n",
    "positiveProfitsRatio = len(positiveProfits)/len(newProfitTS)\n",
    "positiveProfitsRatio"
   ]
  },
  {
   "cell_type": "code",
   "execution_count": 14,
   "metadata": {},
   "outputs": [
    {
     "data": {
      "image/png": "[encoded data removed]",
      "text/plain": [
       "<Figure size 432x288 with 1 Axes>"
      ]
     },
     "metadata": {
      "needs_background": "light"
     },
     "output_type": "display_data"
    }
   ],
   "source": [
    "# 8) Plot the sales and the newSales (generated randomly) throughout the years.\n",
    "\n",
    "import matplotlib.pyplot as plt\n",
    "plt.plot(salesVolumesTS)\n",
    "plt.plot(newSalesVolumesTS)\n",
    "plt.ylabel('sales')\n",
    "plt.xlabel('years')\n",
    "plt.show()"
   ]
  },
  {
   "cell_type": "code",
   "execution_count": null,
   "metadata": {},
   "outputs": [],
   "source": []
  }
 ],
 "metadata": {
  "kernelspec": {
   "display_name": "Python 3",
   "language": "python",
   "name": "python3"
  },
  "language_info": {
   "codemirror_mode": {
    "name": "ipython",
    "version": 3
   },
   "file_extension": ".py",
   "mimetype": "text/x-python",
   "name": "python",
   "nbconvert_exporter": "python",
   "pygments_lexer": "ipython3",
   "version": "3.7.3"
  }
 },
 "nbformat": 4,
 "nbformat_minor": 2
}
